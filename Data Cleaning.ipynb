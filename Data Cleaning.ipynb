{
 "cells": [
  {
   "cell_type": "markdown",
   "id": "e00b5383-b915-4a16-8ed0-476f979052b7",
   "metadata": {},
   "source": [
    "## Data Cleaning\n",
    "\n",
    "Now since we have extracted data from the website, it is not cleaned and ready to be analyzed yet. The reviews section will need to be cleaned for punctuations, spellings and other characters. "
   ]
  },
  {
   "cell_type": "code",
   "execution_count": 15,
   "id": "69c14a0d-d637-4b7e-8714-31fb531b4954",
   "metadata": {},
   "outputs": [
    {
     "name": "stderr",
     "output_type": "stream",
     "text": [
      "[nltk_data] Downloading package stopwords to\n",
      "[nltk_data]     C:\\Users\\MSI_PC\\AppData\\Roaming\\nltk_data...\n",
      "[nltk_data]   Package stopwords is already up-to-date!\n",
      "[nltk_data] Downloading package wordnet to\n",
      "[nltk_data]     C:\\Users\\MSI_PC\\AppData\\Roaming\\nltk_data...\n"
     ]
    },
    {
     "data": {
      "text/plain": [
       "True"
      ]
     },
     "execution_count": 15,
     "metadata": {},
     "output_type": "execute_result"
    }
   ],
   "source": [
    "#imports\n",
    "\n",
    "import pandas as pd\n",
    "import matplotlib.pyplot as plt\n",
    "import seaborn as sns\n",
    "import os\n",
    "\n",
    "#regex\n",
    "import re\n",
    "\n",
    "import nltk\n",
    "nltk.download('stopwords')\n",
    "\n",
    "import nltk\n",
    "nltk.download('wordnet')"
   ]
  },
  {
   "cell_type": "code",
   "execution_count": 16,
   "id": "c46b06dc-b9f5-4b9f-b52b-7f9b01ff7200",
   "metadata": {},
   "outputs": [],
   "source": [
    "#create a dataframe from csv file\n",
    "\n",
    "cwd = os.getcwd()\n",
    "\n",
    "df = pd.read_csv(cwd+\"/BA_reviews.csv\", index_col=0)"
   ]
  },
  {
   "cell_type": "code",
   "execution_count": 17,
   "id": "888d1113-bafd-4e6c-a020-c0e7b721ce50",
   "metadata": {},
   "outputs": [
    {
     "data": {
      "text/html": [
       "<div>\n",
       "<style scoped>\n",
       "    .dataframe tbody tr th:only-of-type {\n",
       "        vertical-align: middle;\n",
       "    }\n",
       "\n",
       "    .dataframe tbody tr th {\n",
       "        vertical-align: top;\n",
       "    }\n",
       "\n",
       "    .dataframe thead th {\n",
       "        text-align: right;\n",
       "    }\n",
       "</style>\n",
       "<table border=\"1\" class=\"dataframe\">\n",
       "  <thead>\n",
       "    <tr style=\"text-align: right;\">\n",
       "      <th></th>\n",
       "      <th>reviews</th>\n",
       "      <th>stars</th>\n",
       "      <th>date</th>\n",
       "      <th>country</th>\n",
       "    </tr>\n",
       "  </thead>\n",
       "  <tbody>\n",
       "    <tr>\n",
       "      <th>0</th>\n",
       "      <td>✅ Trip Verified |  This flight was one of the ...</td>\n",
       "      <td>\\n\\t\\t\\t\\t\\t\\t\\t\\t\\t\\t\\t\\t\\t5</td>\n",
       "      <td>21st January 2023</td>\n",
       "      <td>United Kingdom</td>\n",
       "    </tr>\n",
       "    <tr>\n",
       "      <th>1</th>\n",
       "      <td>Not Verified | It seems that there is a race t...</td>\n",
       "      <td>2</td>\n",
       "      <td>19th January 2023</td>\n",
       "      <td>United States</td>\n",
       "    </tr>\n",
       "    <tr>\n",
       "      <th>2</th>\n",
       "      <td>Not Verified |  As a Spanish born individual l...</td>\n",
       "      <td>3</td>\n",
       "      <td>19th January 2023</td>\n",
       "      <td>United Kingdom</td>\n",
       "    </tr>\n",
       "    <tr>\n",
       "      <th>3</th>\n",
       "      <td>✅ Trip Verified |  A rather empty and quiet fl...</td>\n",
       "      <td>2</td>\n",
       "      <td>18th January 2023</td>\n",
       "      <td>United Kingdom</td>\n",
       "    </tr>\n",
       "    <tr>\n",
       "      <th>4</th>\n",
       "      <td>✅ Trip Verified |  Easy check in and staff mem...</td>\n",
       "      <td>9</td>\n",
       "      <td>17th January 2023</td>\n",
       "      <td>United Kingdom</td>\n",
       "    </tr>\n",
       "  </tbody>\n",
       "</table>\n",
       "</div>"
      ],
      "text/plain": [
       "                                             reviews  \\\n",
       "0  ✅ Trip Verified |  This flight was one of the ...   \n",
       "1  Not Verified | It seems that there is a race t...   \n",
       "2  Not Verified |  As a Spanish born individual l...   \n",
       "3  ✅ Trip Verified |  A rather empty and quiet fl...   \n",
       "4  ✅ Trip Verified |  Easy check in and staff mem...   \n",
       "\n",
       "                           stars               date         country  \n",
       "0  \\n\\t\\t\\t\\t\\t\\t\\t\\t\\t\\t\\t\\t\\t5  21st January 2023  United Kingdom  \n",
       "1                              2  19th January 2023   United States  \n",
       "2                              3  19th January 2023  United Kingdom  \n",
       "3                              2  18th January 2023  United Kingdom  \n",
       "4                              9  17th January 2023  United Kingdom  "
      ]
     },
     "execution_count": 17,
     "metadata": {},
     "output_type": "execute_result"
    }
   ],
   "source": [
    "df.head()"
   ]
  },
  {
   "cell_type": "markdown",
   "id": "7aeb0b06-23f8-48bb-b2d4-b91455040038",
   "metadata": {},
   "source": [
    "We will also create a column which mentions if the user is verified or not. "
   ]
  },
  {
   "cell_type": "code",
   "execution_count": 18,
   "id": "45908798-e042-4d71-8e01-395f53f2005d",
   "metadata": {},
   "outputs": [],
   "source": [
    "df['verified'] = df.reviews.str.contains(\"Trip Verified\")"
   ]
  },
  {
   "cell_type": "code",
   "execution_count": 19,
   "id": "ae4e6e23-4ecc-4c94-8526-5f645ff2f6a2",
   "metadata": {},
   "outputs": [
    {
     "data": {
      "text/plain": [
       "0        True\n",
       "1       False\n",
       "2       False\n",
       "3        True\n",
       "4        True\n",
       "        ...  \n",
       "3413    False\n",
       "3414    False\n",
       "3415    False\n",
       "3416    False\n",
       "3417    False\n",
       "Name: verified, Length: 3418, dtype: bool"
      ]
     },
     "execution_count": 19,
     "metadata": {},
     "output_type": "execute_result"
    }
   ],
   "source": [
    "df['verified']"
   ]
  },
  {
   "cell_type": "markdown",
   "id": "cf266fe0-0c33-477a-9f1e-529a214e91c5",
   "metadata": {},
   "source": [
    "### Cleaning Reviews"
   ]
  },
  {
   "cell_type": "markdown",
   "id": "ac2bc6a6-8783-4873-b5e7-1719f997cdf2",
   "metadata": {},
   "source": [
    "We will extract the column of reviews into a separate dataframe and clean it for semantic analysis"
   ]
  },
  {
   "cell_type": "code",
   "execution_count": 20,
   "id": "e4319089-b957-4b60-8f07-fc8cd3487f9e",
   "metadata": {},
   "outputs": [],
   "source": [
    "#for lemmatization of words we will use nltk library\n",
    "from nltk.stem import WordNetLemmatizer\n",
    "from nltk.corpus import stopwords\n",
    "lemma = WordNetLemmatizer()\n",
    "\n",
    "\n",
    "reviews_data = df.reviews.str.strip(\"✅ Trip Verified |\")\n",
    "\n",
    "#create an empty list to collect cleaned data corpus\n",
    "corpus =[]\n",
    "\n",
    "#loop through each review, remove punctuations, small case it, join it and add it to corpus\n",
    "for rev in reviews_data:\n",
    "    rev = re.sub('[^a-zA-Z]',' ', rev)\n",
    "    rev = rev.lower()\n",
    "    rev = rev.split()\n",
    "    rev = [lemma.lemmatize(word) for word in rev if word not in set(stopwords.words(\"english\"))]\n",
    "    rev = \" \".join(rev)\n",
    "    corpus.append(rev)"
   ]
  },
  {
   "cell_type": "code",
   "execution_count": 21,
   "id": "835b9930-20e0-4d79-8a88-a5737309b4ce",
   "metadata": {},
   "outputs": [],
   "source": [
    "# add the corpus to the original dataframe\n",
    "\n",
    "df['corpus'] = corpus"
   ]
  },
  {
   "cell_type": "code",
   "execution_count": 22,
   "id": "baa16beb-4ac5-4850-a46a-0ae11d64cf3d",
   "metadata": {},
   "outputs": [
    {
     "data": {
      "text/html": [
       "<div>\n",
       "<style scoped>\n",
       "    .dataframe tbody tr th:only-of-type {\n",
       "        vertical-align: middle;\n",
       "    }\n",
       "\n",
       "    .dataframe tbody tr th {\n",
       "        vertical-align: top;\n",
       "    }\n",
       "\n",
       "    .dataframe thead th {\n",
       "        text-align: right;\n",
       "    }\n",
       "</style>\n",
       "<table border=\"1\" class=\"dataframe\">\n",
       "  <thead>\n",
       "    <tr style=\"text-align: right;\">\n",
       "      <th></th>\n",
       "      <th>reviews</th>\n",
       "      <th>stars</th>\n",
       "      <th>date</th>\n",
       "      <th>country</th>\n",
       "      <th>verified</th>\n",
       "      <th>corpus</th>\n",
       "    </tr>\n",
       "  </thead>\n",
       "  <tbody>\n",
       "    <tr>\n",
       "      <th>0</th>\n",
       "      <td>✅ Trip Verified |  This flight was one of the ...</td>\n",
       "      <td>\\n\\t\\t\\t\\t\\t\\t\\t\\t\\t\\t\\t\\t\\t5</td>\n",
       "      <td>21st January 2023</td>\n",
       "      <td>United Kingdom</td>\n",
       "      <td>True</td>\n",
       "      <td>flight one worst ever life wanted pamper bough...</td>\n",
       "    </tr>\n",
       "    <tr>\n",
       "      <th>1</th>\n",
       "      <td>Not Verified | It seems that there is a race t...</td>\n",
       "      <td>2</td>\n",
       "      <td>19th January 2023</td>\n",
       "      <td>United States</td>\n",
       "      <td>False</td>\n",
       "      <td>verified seems race bottom amongst airline can...</td>\n",
       "    </tr>\n",
       "    <tr>\n",
       "      <th>2</th>\n",
       "      <td>Not Verified |  As a Spanish born individual l...</td>\n",
       "      <td>3</td>\n",
       "      <td>19th January 2023</td>\n",
       "      <td>United Kingdom</td>\n",
       "      <td>False</td>\n",
       "      <td>verified spanish born individual living englan...</td>\n",
       "    </tr>\n",
       "    <tr>\n",
       "      <th>3</th>\n",
       "      <td>✅ Trip Verified |  A rather empty and quiet fl...</td>\n",
       "      <td>2</td>\n",
       "      <td>18th January 2023</td>\n",
       "      <td>United Kingdom</td>\n",
       "      <td>True</td>\n",
       "      <td>rather empty quiet flight tel aviv friendly ca...</td>\n",
       "    </tr>\n",
       "    <tr>\n",
       "      <th>4</th>\n",
       "      <td>✅ Trip Verified |  Easy check in and staff mem...</td>\n",
       "      <td>9</td>\n",
       "      <td>17th January 2023</td>\n",
       "      <td>United Kingdom</td>\n",
       "      <td>True</td>\n",
       "      <td>easy check staff member polite helpful made sp...</td>\n",
       "    </tr>\n",
       "  </tbody>\n",
       "</table>\n",
       "</div>"
      ],
      "text/plain": [
       "                                             reviews  \\\n",
       "0  ✅ Trip Verified |  This flight was one of the ...   \n",
       "1  Not Verified | It seems that there is a race t...   \n",
       "2  Not Verified |  As a Spanish born individual l...   \n",
       "3  ✅ Trip Verified |  A rather empty and quiet fl...   \n",
       "4  ✅ Trip Verified |  Easy check in and staff mem...   \n",
       "\n",
       "                           stars               date         country  verified  \\\n",
       "0  \\n\\t\\t\\t\\t\\t\\t\\t\\t\\t\\t\\t\\t\\t5  21st January 2023  United Kingdom      True   \n",
       "1                              2  19th January 2023   United States     False   \n",
       "2                              3  19th January 2023  United Kingdom     False   \n",
       "3                              2  18th January 2023  United Kingdom      True   \n",
       "4                              9  17th January 2023  United Kingdom      True   \n",
       "\n",
       "                                              corpus  \n",
       "0  flight one worst ever life wanted pamper bough...  \n",
       "1  verified seems race bottom amongst airline can...  \n",
       "2  verified spanish born individual living englan...  \n",
       "3  rather empty quiet flight tel aviv friendly ca...  \n",
       "4  easy check staff member polite helpful made sp...  "
      ]
     },
     "execution_count": 22,
     "metadata": {},
     "output_type": "execute_result"
    }
   ],
   "source": [
    "df.head()"
   ]
  },
  {
   "cell_type": "markdown",
   "id": "63424d81-bab2-4e74-aa97-6094bd035940",
   "metadata": {},
   "source": [
    "### Cleaning/Fromat date"
   ]
  },
  {
   "cell_type": "code",
   "execution_count": 23,
   "id": "33f1a718-af12-4fa4-85ae-f5511e8986ae",
   "metadata": {},
   "outputs": [
    {
     "data": {
      "text/plain": [
       "reviews     object\n",
       "stars       object\n",
       "date        object\n",
       "country     object\n",
       "verified      bool\n",
       "corpus      object\n",
       "dtype: object"
      ]
     },
     "execution_count": 23,
     "metadata": {},
     "output_type": "execute_result"
    }
   ],
   "source": [
    "df.dtypes"
   ]
  },
  {
   "cell_type": "code",
   "execution_count": 24,
   "id": "c773fca4-23ee-4f7d-a1db-8da648ddb161",
   "metadata": {},
   "outputs": [],
   "source": [
    "# convert the date to datetime format\n",
    "\n",
    "df.date = pd.to_datetime(df.date)"
   ]
  },
  {
   "cell_type": "code",
   "execution_count": 25,
   "id": "0440c89e-9a89-4ef4-888f-eb25ad833afb",
   "metadata": {},
   "outputs": [
    {
     "data": {
      "text/plain": [
       "0   2023-01-21\n",
       "1   2023-01-19\n",
       "2   2023-01-19\n",
       "3   2023-01-18\n",
       "4   2023-01-17\n",
       "Name: date, dtype: datetime64[ns]"
      ]
     },
     "execution_count": 25,
     "metadata": {},
     "output_type": "execute_result"
    }
   ],
   "source": [
    "df.date.head()"
   ]
  },
  {
   "cell_type": "markdown",
   "id": "a7973868-80c4-46b9-9449-6761fac91f64",
   "metadata": {},
   "source": [
    "### Cleaning ratings with stars"
   ]
  },
  {
   "cell_type": "code",
   "execution_count": 26,
   "id": "4f535799-1f5a-43d2-a858-5639f35b073c",
   "metadata": {},
   "outputs": [
    {
     "data": {
      "text/plain": [
       "array(['\\n\\t\\t\\t\\t\\t\\t\\t\\t\\t\\t\\t\\t\\t5', '2', '3', '9', '1', '4', '5', '8',\n",
       "       '6', '7', '10', 'None'], dtype=object)"
      ]
     },
     "execution_count": 26,
     "metadata": {},
     "output_type": "execute_result"
    }
   ],
   "source": [
    "#check for unique values\n",
    "df.stars.unique()"
   ]
  },
  {
   "cell_type": "code",
   "execution_count": 27,
   "id": "5664b1c3-17d3-4f54-8799-388443a6242d",
   "metadata": {},
   "outputs": [],
   "source": [
    "# remove the \\t and \\n from the ratings\n",
    "df.stars = df.stars.str.strip(\"\\n\\t\\t\\t\\t\\t\\t\\t\\t\\t\\t\\t\\t\\t\")"
   ]
  },
  {
   "cell_type": "code",
   "execution_count": 28,
   "id": "9cbfaa06-b519-4ce1-bb50-420692a923d6",
   "metadata": {},
   "outputs": [
    {
     "data": {
      "text/plain": [
       "1       743\n",
       "2       384\n",
       "3       382\n",
       "8       345\n",
       "10      304\n",
       "7       299\n",
       "9       291\n",
       "5       255\n",
       "4       232\n",
       "6       178\n",
       "None      5\n",
       "Name: stars, dtype: int64"
      ]
     },
     "execution_count": 28,
     "metadata": {},
     "output_type": "execute_result"
    }
   ],
   "source": [
    "df.stars.value_counts()"
   ]
  },
  {
   "cell_type": "markdown",
   "id": "23941023-6f4d-44a3-9ae5-34ba7270a646",
   "metadata": {},
   "source": [
    "There are 5 rows having values \"None\" in the ratings. We will drop all these 5 rows. "
   ]
  },
  {
   "cell_type": "code",
   "execution_count": 29,
   "id": "e5d3e147-b454-4515-8b14-54e4ec756b1c",
   "metadata": {},
   "outputs": [],
   "source": [
    "# drop the rows where the value of ratings is None\n",
    "df.drop(df[df.stars == \"None\"].index, axis=0, inplace=True)"
   ]
  },
  {
   "cell_type": "code",
   "execution_count": 30,
   "id": "e152aed3-2da4-4ee9-90dc-d2bd3553d870",
   "metadata": {},
   "outputs": [
    {
     "data": {
      "text/plain": [
       "array(['5', '2', '3', '9', '1', '4', '8', '6', '7', '10'], dtype=object)"
      ]
     },
     "execution_count": 30,
     "metadata": {},
     "output_type": "execute_result"
    }
   ],
   "source": [
    "#check the unique values again\n",
    "df.stars.unique()"
   ]
  },
  {
   "cell_type": "markdown",
   "id": "c29e569e-bab0-4d73-8496-f60aa375be38",
   "metadata": {},
   "source": [
    "## Check for null Values"
   ]
  },
  {
   "cell_type": "code",
   "execution_count": 31,
   "id": "e81950f2-0cb3-4c1a-9859-233f4c3304d7",
   "metadata": {},
   "outputs": [
    {
     "data": {
      "text/plain": [
       "reviews  stars  date   country  verified  corpus\n",
       "False    False  False  False    False     False     3411\n",
       "                       True     False     False        2\n",
       "dtype: int64"
      ]
     },
     "execution_count": 31,
     "metadata": {},
     "output_type": "execute_result"
    }
   ],
   "source": [
    "df.isnull().value_counts()"
   ]
  },
  {
   "cell_type": "code",
   "execution_count": 32,
   "id": "7c53f6a8-3f14-4711-a11a-a99f72015431",
   "metadata": {},
   "outputs": [
    {
     "data": {
      "text/plain": [
       "False    3411\n",
       "True        2\n",
       "Name: country, dtype: int64"
      ]
     },
     "execution_count": 32,
     "metadata": {},
     "output_type": "execute_result"
    }
   ],
   "source": [
    "df.country.isnull().value_counts()"
   ]
  },
  {
   "cell_type": "markdown",
   "id": "3d9dbc68-9826-49e0-a003-d1c0c5e5d4f6",
   "metadata": {},
   "source": [
    "We have two missing values for country. For this we can just remove those two reviews (rows) from the dataframe. "
   ]
  },
  {
   "cell_type": "code",
   "execution_count": 33,
   "id": "98b5b16a-c25d-475b-8894-e680323195eb",
   "metadata": {},
   "outputs": [],
   "source": [
    "#drop the rows using index where the country value is null\n",
    "df.drop(df[df.country.isnull() == True].index, axis=0, inplace=True)"
   ]
  },
  {
   "cell_type": "code",
   "execution_count": 34,
   "id": "116656f9-0f7a-4d79-8f69-7f4fbf711eca",
   "metadata": {},
   "outputs": [
    {
     "data": {
      "text/plain": [
       "(3411, 6)"
      ]
     },
     "execution_count": 34,
     "metadata": {},
     "output_type": "execute_result"
    }
   ],
   "source": [
    "df.shape"
   ]
  },
  {
   "cell_type": "code",
   "execution_count": 35,
   "id": "54a2b64d-4730-44f3-b40c-409d098f78f9",
   "metadata": {},
   "outputs": [
    {
     "data": {
      "text/html": [
       "<div>\n",
       "<style scoped>\n",
       "    .dataframe tbody tr th:only-of-type {\n",
       "        vertical-align: middle;\n",
       "    }\n",
       "\n",
       "    .dataframe tbody tr th {\n",
       "        vertical-align: top;\n",
       "    }\n",
       "\n",
       "    .dataframe thead th {\n",
       "        text-align: right;\n",
       "    }\n",
       "</style>\n",
       "<table border=\"1\" class=\"dataframe\">\n",
       "  <thead>\n",
       "    <tr style=\"text-align: right;\">\n",
       "      <th></th>\n",
       "      <th>reviews</th>\n",
       "      <th>stars</th>\n",
       "      <th>date</th>\n",
       "      <th>country</th>\n",
       "      <th>verified</th>\n",
       "      <th>corpus</th>\n",
       "    </tr>\n",
       "  </thead>\n",
       "  <tbody>\n",
       "    <tr>\n",
       "      <th>0</th>\n",
       "      <td>✅ Trip Verified |  This flight was one of the ...</td>\n",
       "      <td>5</td>\n",
       "      <td>2023-01-21</td>\n",
       "      <td>United Kingdom</td>\n",
       "      <td>True</td>\n",
       "      <td>flight one worst ever life wanted pamper bough...</td>\n",
       "    </tr>\n",
       "    <tr>\n",
       "      <th>1</th>\n",
       "      <td>Not Verified | It seems that there is a race t...</td>\n",
       "      <td>2</td>\n",
       "      <td>2023-01-19</td>\n",
       "      <td>United States</td>\n",
       "      <td>False</td>\n",
       "      <td>verified seems race bottom amongst airline can...</td>\n",
       "    </tr>\n",
       "    <tr>\n",
       "      <th>2</th>\n",
       "      <td>Not Verified |  As a Spanish born individual l...</td>\n",
       "      <td>3</td>\n",
       "      <td>2023-01-19</td>\n",
       "      <td>United Kingdom</td>\n",
       "      <td>False</td>\n",
       "      <td>verified spanish born individual living englan...</td>\n",
       "    </tr>\n",
       "    <tr>\n",
       "      <th>3</th>\n",
       "      <td>✅ Trip Verified |  A rather empty and quiet fl...</td>\n",
       "      <td>2</td>\n",
       "      <td>2023-01-18</td>\n",
       "      <td>United Kingdom</td>\n",
       "      <td>True</td>\n",
       "      <td>rather empty quiet flight tel aviv friendly ca...</td>\n",
       "    </tr>\n",
       "    <tr>\n",
       "      <th>4</th>\n",
       "      <td>✅ Trip Verified |  Easy check in and staff mem...</td>\n",
       "      <td>9</td>\n",
       "      <td>2023-01-17</td>\n",
       "      <td>United Kingdom</td>\n",
       "      <td>True</td>\n",
       "      <td>easy check staff member polite helpful made sp...</td>\n",
       "    </tr>\n",
       "    <tr>\n",
       "      <th>...</th>\n",
       "      <td>...</td>\n",
       "      <td>...</td>\n",
       "      <td>...</td>\n",
       "      <td>...</td>\n",
       "      <td>...</td>\n",
       "      <td>...</td>\n",
       "    </tr>\n",
       "    <tr>\n",
       "      <th>3406</th>\n",
       "      <td>LHR-JTR-LHR. A tale of opposites for BA's new ...</td>\n",
       "      <td>10</td>\n",
       "      <td>2014-05-18</td>\n",
       "      <td>United Kingdom</td>\n",
       "      <td>False</td>\n",
       "      <td>lhr jtr lhr tale opposite ba new route santori...</td>\n",
       "    </tr>\n",
       "    <tr>\n",
       "      <th>3407</th>\n",
       "      <td>Gatwick-Venice return. Two contrasting experie...</td>\n",
       "      <td>2</td>\n",
       "      <td>2014-05-18</td>\n",
       "      <td>United Kingdom</td>\n",
       "      <td>False</td>\n",
       "      <td>gatwick venice return two contrasting experien...</td>\n",
       "    </tr>\n",
       "    <tr>\n",
       "      <th>3408</th>\n",
       "      <td>1st Class LHR-PHX. Totally seamless flight. Gr...</td>\n",
       "      <td>10</td>\n",
       "      <td>2014-05-18</td>\n",
       "      <td>United Kingdom</td>\n",
       "      <td>False</td>\n",
       "      <td>st class lhr phx totally seamless flight great...</td>\n",
       "    </tr>\n",
       "    <tr>\n",
       "      <th>3409</th>\n",
       "      <td>When we booked our holiday to Barbados I was r...</td>\n",
       "      <td>7</td>\n",
       "      <td>2014-05-18</td>\n",
       "      <td>United Kingdom</td>\n",
       "      <td>False</td>\n",
       "      <td>booked holiday barbados really pleased see fly...</td>\n",
       "    </tr>\n",
       "    <tr>\n",
       "      <th>3410</th>\n",
       "      <td>Travelling as a family of 4 (2 adults and 2 yo...</td>\n",
       "      <td>9</td>\n",
       "      <td>2014-05-17</td>\n",
       "      <td>United Kingdom</td>\n",
       "      <td>False</td>\n",
       "      <td>avelling family adult young child london bosto...</td>\n",
       "    </tr>\n",
       "  </tbody>\n",
       "</table>\n",
       "<p>3411 rows × 6 columns</p>\n",
       "</div>"
      ],
      "text/plain": [
       "                                                reviews stars       date  \\\n",
       "0     ✅ Trip Verified |  This flight was one of the ...     5 2023-01-21   \n",
       "1     Not Verified | It seems that there is a race t...     2 2023-01-19   \n",
       "2     Not Verified |  As a Spanish born individual l...     3 2023-01-19   \n",
       "3     ✅ Trip Verified |  A rather empty and quiet fl...     2 2023-01-18   \n",
       "4     ✅ Trip Verified |  Easy check in and staff mem...     9 2023-01-17   \n",
       "...                                                 ...   ...        ...   \n",
       "3406  LHR-JTR-LHR. A tale of opposites for BA's new ...    10 2014-05-18   \n",
       "3407  Gatwick-Venice return. Two contrasting experie...     2 2014-05-18   \n",
       "3408  1st Class LHR-PHX. Totally seamless flight. Gr...    10 2014-05-18   \n",
       "3409  When we booked our holiday to Barbados I was r...     7 2014-05-18   \n",
       "3410  Travelling as a family of 4 (2 adults and 2 yo...     9 2014-05-17   \n",
       "\n",
       "             country  verified  \\\n",
       "0     United Kingdom      True   \n",
       "1      United States     False   \n",
       "2     United Kingdom     False   \n",
       "3     United Kingdom      True   \n",
       "4     United Kingdom      True   \n",
       "...              ...       ...   \n",
       "3406  United Kingdom     False   \n",
       "3407  United Kingdom     False   \n",
       "3408  United Kingdom     False   \n",
       "3409  United Kingdom     False   \n",
       "3410  United Kingdom     False   \n",
       "\n",
       "                                                 corpus  \n",
       "0     flight one worst ever life wanted pamper bough...  \n",
       "1     verified seems race bottom amongst airline can...  \n",
       "2     verified spanish born individual living englan...  \n",
       "3     rather empty quiet flight tel aviv friendly ca...  \n",
       "4     easy check staff member polite helpful made sp...  \n",
       "...                                                 ...  \n",
       "3406  lhr jtr lhr tale opposite ba new route santori...  \n",
       "3407  gatwick venice return two contrasting experien...  \n",
       "3408  st class lhr phx totally seamless flight great...  \n",
       "3409  booked holiday barbados really pleased see fly...  \n",
       "3410  avelling family adult young child london bosto...  \n",
       "\n",
       "[3411 rows x 6 columns]"
      ]
     },
     "execution_count": 35,
     "metadata": {},
     "output_type": "execute_result"
    }
   ],
   "source": [
    "#resetting the index\n",
    "df.reset_index(drop=True)"
   ]
  },
  {
   "cell_type": "markdown",
   "id": "9fa4efa3-5d41-4fa7-a5ac-a959e322fcc9",
   "metadata": {},
   "source": [
    "*****"
   ]
  },
  {
   "cell_type": "markdown",
   "id": "cbb39abb-e09a-4bad-9fa6-65bba66ed631",
   "metadata": {},
   "source": [
    "Now our data is all cleaned and ready for data visualization and data analysis."
   ]
  },
  {
   "cell_type": "code",
   "execution_count": 36,
   "id": "d9f0183c-e72a-4028-9c9a-1f3dee87c342",
   "metadata": {},
   "outputs": [],
   "source": [
    "# export the cleaned data\n",
    "\n",
    "df.to_csv(cwd + \"/cleaned-BA-reviews.csv\")"
   ]
  },
  {
   "cell_type": "code",
   "execution_count": null,
   "id": "4f9bad2f-721b-445a-86f9-bc9e16c177ce",
   "metadata": {},
   "outputs": [],
   "source": []
  }
 ],
 "metadata": {
  "kernelspec": {
   "display_name": "Python 3 (ipykernel)",
   "language": "python",
   "name": "python3"
  },
  "language_info": {
   "codemirror_mode": {
    "name": "ipython",
    "version": 3
   },
   "file_extension": ".py",
   "mimetype": "text/x-python",
   "name": "python",
   "nbconvert_exporter": "python",
   "pygments_lexer": "ipython3",
   "version": "3.9.7"
  }
 },
 "nbformat": 4,
 "nbformat_minor": 5
}
